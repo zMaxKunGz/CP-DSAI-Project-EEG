{
 "cells": [
  {
   "cell_type": "code",
   "execution_count": 1,
   "metadata": {},
   "outputs": [],
   "source": [
    "from braininvaders2015a.dataset import BrainInvaders2015a"
   ]
  },
  {
   "cell_type": "code",
   "execution_count": 2,
   "metadata": {},
   "outputs": [],
   "source": [
    "dataset = BrainInvaders2015a()"
   ]
  },
  {
   "cell_type": "code",
   "execution_count": 3,
   "metadata": {},
   "outputs": [
    {
     "name": "stdout",
     "output_type": "stream",
     "text": [
      "Using default location ~/mne_data for BRAININVADERS2015A...\n",
      "Creating ~/mne_data\n",
      "Downloading https://zenodo.org/record/3266930/files/subject_01_mat.zip (241.5 MB)\n",
      "[........................................] 100.00% (241.5 MB,  25.7 MB/s) \\   \n",
      "Setting non-standard config type: \"MNE_DATASETS_BRAININVADERS2015A_PATH\"\n",
      "Attempting to create new mne-python configuration file:\n",
      "C:\\Users\\THETANG\\.mne\\mne-python.json\n",
      "unzip C:\\Users\\THETANG\\mne_data\\MNE-braininvaders2015a-data\\record\\3266930\\files\\subject_01_mat.zip\n"
     ]
    },
    {
     "name": "stderr",
     "output_type": "stream",
     "text": [
      "c:\\users\\thetang\\documents\\github\\py.bi.eeg.2015a-gipsa\\braininvaders2015a\\download.py:61: RuntimeWarning: Setting non-standard config type: \"MNE_DATASETS_BRAININVADERS2015A_PATH\"\n",
      "  _do_path_update(path, update_path, key, sign)\n"
     ]
    }
   ],
   "source": [
    "data_subject1 = dataset._get_single_subject_data(1)"
   ]
  },
  {
   "cell_type": "code",
   "execution_count": 4,
   "metadata": {},
   "outputs": [
    {
     "data": {
      "text/plain": [
       "<RawArray  |  None, n_channels x n_times : 33 x 614400 (1200.0 sec), ~154.8 MB, data loaded>"
      ]
     },
     "execution_count": 4,
     "metadata": {},
     "output_type": "execute_result"
    }
   ],
   "source": [
    "data_subject1['session_1']['run_1']"
   ]
  }
 ],
 "metadata": {
  "interpreter": {
   "hash": "b695428cb0a512f72304dc6e4bf67596b802b48bec8b15e1165bddca833b1a7e"
  },
  "kernelspec": {
   "display_name": "Python 3.6.13 64-bit ('BI_env': conda)",
   "name": "python3"
  },
  "language_info": {
   "codemirror_mode": {
    "name": "ipython",
    "version": 3
   },
   "file_extension": ".py",
   "mimetype": "text/x-python",
   "name": "python",
   "nbconvert_exporter": "python",
   "pygments_lexer": "ipython3",
   "version": "3.6.13"
  },
  "orig_nbformat": 4
 },
 "nbformat": 4,
 "nbformat_minor": 2
}
