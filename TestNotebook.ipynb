{
 "cells": [
  {
   "cell_type": "code",
   "execution_count": 1,
   "metadata": {},
   "outputs": [],
   "source": [
    "from braininvaders2015a.dataset import BrainInvaders2015a"
   ]
  },
  {
   "cell_type": "code",
   "execution_count": 2,
   "metadata": {},
   "outputs": [],
   "source": [
    "dataset = BrainInvaders2015a()"
   ]
  },
  {
   "cell_type": "code",
   "execution_count": 4,
   "metadata": {},
   "outputs": [
    {
     "name": "stdout",
     "output_type": "stream",
     "text": [
      "Setting non-standard config type: \"MNE_DATASETS_BRAININVADERS2015A_PATH\"\n"
     ]
    },
    {
     "name": "stderr",
     "output_type": "stream",
     "text": [
      "/home/maxpasit/workspace/py.BI.EEG.2015a-GIPSA/braininvaders2015a/download.py:61: RuntimeWarning: Setting non-standard config type: \"MNE_DATASETS_BRAININVADERS2015A_PATH\"\n",
      "  _do_path_update(path, update_path, key, sign)\n",
      "/home/maxpasit/anaconda3/envs/cpdsai-project/lib/python3.7/site-packages/mne/io/pick.py:282: DeprecationWarning: `np.bool` is a deprecated alias for the builtin `bool`. To silence this warning, use `bool` by itself. Doing this will not modify any behavior and is safe. If you specifically wanted the numpy scalar type, use `np.bool_` here.\n",
      "Deprecated in NumPy 1.20; for more details and guidance: https://numpy.org/devdocs/release/1.20.0-notes.html#deprecations\n",
      "  pick = np.zeros(nchan, dtype=np.bool)\n",
      "/home/maxpasit/anaconda3/envs/cpdsai-project/lib/python3.7/site-packages/mne/io/pick.py:282: DeprecationWarning: `np.bool` is a deprecated alias for the builtin `bool`. To silence this warning, use `bool` by itself. Doing this will not modify any behavior and is safe. If you specifically wanted the numpy scalar type, use `np.bool_` here.\n",
      "Deprecated in NumPy 1.20; for more details and guidance: https://numpy.org/devdocs/release/1.20.0-notes.html#deprecations\n",
      "  pick = np.zeros(nchan, dtype=np.bool)\n",
      "/home/maxpasit/anaconda3/envs/cpdsai-project/lib/python3.7/site-packages/mne/io/pick.py:282: DeprecationWarning: `np.bool` is a deprecated alias for the builtin `bool`. To silence this warning, use `bool` by itself. Doing this will not modify any behavior and is safe. If you specifically wanted the numpy scalar type, use `np.bool_` here.\n",
      "Deprecated in NumPy 1.20; for more details and guidance: https://numpy.org/devdocs/release/1.20.0-notes.html#deprecations\n",
      "  pick = np.zeros(nchan, dtype=np.bool)\n"
     ]
    }
   ],
   "source": [
    "data_subject1 = dataset._get_single_subject_data(1)"
   ]
  },
  {
   "cell_type": "code",
   "execution_count": 8,
   "metadata": {},
   "outputs": [
    {
     "data": {
      "text/plain": [
       "<RawArray  |  None, n_channels x n_times : 33 x 614400 (1200.0 sec), ~154.8 MB, data loaded>"
      ]
     },
     "execution_count": 8,
     "metadata": {},
     "output_type": "execute_result"
    }
   ],
   "source": [
    "data_subject1['session_1']['run_1']"
   ]
  }
 ],
 "metadata": {
  "interpreter": {
   "hash": "04458f7a455ad24db599045894037087274488b2f168b9fa3843e63e13259849"
  },
  "kernelspec": {
   "display_name": "Python 3.7.11 64-bit ('cpdsai-project': conda)",
   "name": "python3"
  },
  "language_info": {
   "codemirror_mode": {
    "name": "ipython",
    "version": 3
   },
   "file_extension": ".py",
   "mimetype": "text/x-python",
   "name": "python",
   "nbconvert_exporter": "python",
   "pygments_lexer": "ipython3",
   "version": "3.7.11"
  },
  "orig_nbformat": 4
 },
 "nbformat": 4,
 "nbformat_minor": 2
}
