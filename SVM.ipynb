{
 "cells": [
  {
   "cell_type": "code",
   "execution_count": 1,
   "metadata": {},
   "outputs": [],
   "source": [
    "from braininvaders2015a.dataset import BrainInvaders2015a\n",
    "import mne\n",
    "from mne import create_info\n",
    "from mne.io import RawArray\n",
    "import pandas as pd\n",
    "import numpy as np\n",
    "import matplotlib.pyplot as plt\n",
    "from mne import Epochs, find_events\n",
    "from IPython.display import clear_output"
   ]
  },
  {
   "cell_type": "code",
   "execution_count": 2,
   "metadata": {},
   "outputs": [
    {
     "name": "stdout",
     "output_type": "stream",
     "text": [
      "{'session_1': {'run_1': <RawArray | 33 x 132160 (258.1 s), ~33.3 MB, data loaded>}, 'session_2': {'run_1': <RawArray | 33 x 95520 (186.6 s), ~24.1 MB, data loaded>}, 'session_3': {'run_1': <RawArray | 33 x 98464 (192.3 s), ~24.8 MB, data loaded>}}\n"
     ]
    }
   ],
   "source": [
    "dataset = BrainInvaders2015a()\n",
    "data_subject = dataset._get_single_subject_data(3)\n",
    "data_ses1_run1 = data_subject['session_1']['run_1']\n",
    "print(data_subject)"
   ]
  },
  {
   "cell_type": "code",
   "execution_count": 3,
   "metadata": {},
   "outputs": [],
   "source": [
    "def load_data(i):\n",
    "    data_subject = dataset._get_single_subject_data(i)\n",
    "    data_ses1_run1 = data_subject['session_1']['run_1']\n",
    "    data_ses1_run1_pd = data_ses1_run1.to_data_frame()\n",
    "    data_ses1_run1_pd = data_ses1_run1_pd.drop(['time'],axis = 1)\n",
    "    return data_ses1_run1_pd\n",
    "def filter(raw):\n",
    "    raw.notch_filter(np.arange(50, 251, 50))\n",
    "    raw.filter(1,24,method = 'iir')\n",
    "    return raw\n",
    "\n",
    "def df_to_raw(df):\n",
    "    sfreq = 512\n",
    "    ch_names = list(df.columns)\n",
    "    ch_types = ['eeg'] * (len(df.columns) - 1) + ['stim']\n",
    "    ten_twenty_montage = mne.channels.make_standard_montage('standard_1020')\n",
    "\n",
    "    df = df.T\n",
    "      #mne looks at the tranpose() format\n",
    "    df[:-1] *= 1e-6\n",
    "      #convert from uVolts to Volts (mne assumes Volts data)\n",
    "\n",
    "    info = create_info(ch_names=ch_names, ch_types=ch_types, sfreq=sfreq)\n",
    "\n",
    "    raw = mne.io.RawArray(df, info)\n",
    "    raw.set_montage(ten_twenty_montage)\n",
    "\n",
    "    #try plotting the raw data of its power spectral density\n",
    "    # raw.plot_psd()\n",
    "\n",
    "    return raw"
   ]
  },
  {
   "cell_type": "code",
   "execution_count": 4,
   "metadata": {},
   "outputs": [],
   "source": [
    "def preprocess(i):\n",
    "    clear_output(wait=True)\n",
    "    data_subject1 = load_data(i)\n",
    "    raw = df_to_raw(data_subject1)\n",
    "    raw = filter(raw)\n",
    "    # df = do_pca(raw)\n",
    "    # raw = df_to_raw(df)\n",
    "    events = find_events(raw)\n",
    "    event_id = {'NonTarget': 1, 'Target': 2}\n",
    "    eeg_channels = mne.pick_types(raw.info, eeg=True)\n",
    "    epochs = Epochs(raw, events=events, event_id=event_id, \n",
    "                        tmin=0.0, tmax=0.7, baseline=None, preload=True,verbose=False, picks=eeg_channels)\n",
    "    X = epochs.get_data()\n",
    "    y = epochs.events[:, -1]\n",
    "    X_new = X.reshape(X.shape[0],-1)\n",
    "    return X_new,y"
   ]
  },
  {
   "cell_type": "code",
   "execution_count": 5,
   "metadata": {},
   "outputs": [],
   "source": [
    "from sklearn.preprocessing import StandardScaler\n",
    "from sklearn.decomposition import PCA\n",
    "def do_pca(X):\n",
    "    #scaling\n",
    "    sc = StandardScaler()\n",
    "    X = sc.fit_transform(X)\n",
    "\n",
    "    # Perform PCA\n",
    "    pca = PCA()\n",
    "    # Determine transformed features\n",
    "    X_pca = pca.fit_transform(X)\n",
    "    return X_pca"
   ]
  },
  {
   "cell_type": "code",
   "execution_count": 6,
   "metadata": {},
   "outputs": [
    {
     "name": "stdout",
     "output_type": "stream",
     "text": [
      "Creating RawArray with float64 data, n_channels=33, n_times=150528\n",
      "    Range : 0 ... 150527 =      0.000 ...   293.998 secs\n",
      "Ready.\n",
      "Setting up band-stop filter\n",
      "\n",
      "FIR filter parameters\n",
      "---------------------\n",
      "Designing a one-pass, zero-phase, non-causal bandstop filter:\n",
      "- Windowed time-domain design (firwin) method\n",
      "- Hamming window with 0.0194 passband ripple and 53 dB stopband attenuation\n",
      "- Lower transition bandwidth: 0.50 Hz\n",
      "- Upper transition bandwidth: 0.50 Hz\n",
      "- Filter length: 3381 samples (6.604 sec)\n",
      "\n",
      "Filtering raw data in 1 contiguous segment\n",
      "Setting up band-pass filter from 1 - 24 Hz\n",
      "\n",
      "IIR filter parameters\n",
      "---------------------\n",
      "Butterworth bandpass zero-phase (two-pass forward and reverse) non-causal filter:\n",
      "- Filter order 16 (effective, after forward-backward)\n",
      "- Cutoffs at 1.00, 24.00 Hz: -6.02, -6.02 dB\n",
      "\n",
      "432 events found\n",
      "Event IDs: [1 2]\n",
      "(432, 11488)\n"
     ]
    }
   ],
   "source": [
    "X_train,y_train = preprocess(5)\n",
    "print(X_train.shape)"
   ]
  },
  {
   "cell_type": "markdown",
   "metadata": {},
   "source": [
    "GRIDSEARCH"
   ]
  },
  {
   "cell_type": "code",
   "execution_count": 8,
   "metadata": {},
   "outputs": [
    {
     "name": "stdout",
     "output_type": "stream",
     "text": [
      "Creating RawArray with float64 data, n_channels=33, n_times=132160\n",
      "    Range : 0 ... 132159 =      0.000 ...   258.123 secs\n",
      "Ready.\n",
      "Setting up band-stop filter\n",
      "\n",
      "FIR filter parameters\n",
      "---------------------\n",
      "Designing a one-pass, zero-phase, non-causal bandstop filter:\n",
      "- Windowed time-domain design (firwin) method\n",
      "- Hamming window with 0.0194 passband ripple and 53 dB stopband attenuation\n",
      "- Lower transition bandwidth: 0.50 Hz\n",
      "- Upper transition bandwidth: 0.50 Hz\n",
      "- Filter length: 3381 samples (6.604 sec)\n",
      "\n",
      "Filtering raw data in 1 contiguous segment\n",
      "Setting up band-pass filter from 1 - 24 Hz\n",
      "\n",
      "IIR filter parameters\n",
      "---------------------\n",
      "Butterworth bandpass zero-phase (two-pass forward and reverse) non-causal filter:\n",
      "- Filter order 16 (effective, after forward-backward)\n",
      "- Cutoffs at 1.00, 24.00 Hz: -6.02, -6.02 dB\n",
      "\n",
      "360 events found\n",
      "Event IDs: [1 2]\n"
     ]
    }
   ],
   "source": [
    "from sklearn.model_selection import GridSearchCV\n",
    "from sklearn.svm import SVC\n",
    "from sklearn.model_selection import train_test_split\n",
    "X,y = preprocess(3)\n",
    "X_train_pca = do_pca(X)\n",
    "    #split\n",
    "X_train, X_test, y_train, y_test = train_test_split(X_train_pca,\n",
    "                    y, test_size=0.3, random_state=1)"
   ]
  },
  {
   "cell_type": "code",
   "execution_count": 9,
   "metadata": {},
   "outputs": [
    {
     "name": "stdout",
     "output_type": "stream",
     "text": [
      "=========Best parameters=======\n",
      "The best parameters are {'C': 1, 'kernel': 'linear'} witha score of 0.91\n"
     ]
    }
   ],
   "source": [
    "kernel = ['linear', 'rbf']\n",
    "C_range = [1, 2]\n",
    "param_grid = dict(C=C_range, kernel=kernel)\n",
    "grid = GridSearchCV(SVC(), param_grid=param_grid)\n",
    "grid.fit(X_train, y_train)\n",
    "print(\"=========Best parameters=======\")\n",
    "print(f\"The best parameters are {grid.best_params_} with\" +\n",
    "          f\"a score of {grid.best_score_:.2f}\")"
   ]
  },
  {
   "cell_type": "markdown",
   "metadata": {},
   "source": [
    "Model(subject1-10)"
   ]
  },
  {
   "cell_type": "code",
   "execution_count": 10,
   "metadata": {},
   "outputs": [
    {
     "name": "stdout",
     "output_type": "stream",
     "text": [
      "Creating RawArray with float64 data, n_channels=33, n_times=122784\n",
      "    Range : 0 ... 122783 =      0.000 ...   239.811 secs\n",
      "Ready.\n",
      "Setting up band-stop filter\n",
      "\n",
      "FIR filter parameters\n",
      "---------------------\n",
      "Designing a one-pass, zero-phase, non-causal bandstop filter:\n",
      "- Windowed time-domain design (firwin) method\n",
      "- Hamming window with 0.0194 passband ripple and 53 dB stopband attenuation\n",
      "- Lower transition bandwidth: 0.50 Hz\n",
      "- Upper transition bandwidth: 0.50 Hz\n",
      "- Filter length: 3381 samples (6.604 sec)\n",
      "\n",
      "Filtering raw data in 1 contiguous segment\n",
      "Setting up band-pass filter from 1 - 24 Hz\n",
      "\n",
      "IIR filter parameters\n",
      "---------------------\n",
      "Butterworth bandpass zero-phase (two-pass forward and reverse) non-causal filter:\n",
      "- Filter order 16 (effective, after forward-backward)\n",
      "- Cutoffs at 1.00, 24.00 Hz: -6.02, -6.02 dB\n",
      "\n",
      "324 events found\n",
      "Event IDs: [1 2]\n"
     ]
    }
   ],
   "source": [
    "from sklearn.model_selection import train_test_split\n",
    "import matplotlib.pyplot as plt\n",
    "from sklearn.svm import SVC\n",
    "accuracy = []\n",
    "for i in range(10):\n",
    "    X,y = preprocess(i+1)\n",
    "    X_train_pca = do_pca(X)\n",
    "    #split\n",
    "    X_train, X_test, y_train, y_test = train_test_split(X_train_pca,\n",
    "                    y, test_size=0.3, random_state=1)\n",
    "                    \n",
    "    #model\n",
    "    clf = SVC(kernel='linear',C=1)\n",
    "    clf.fit(X_train,y_train)\n",
    "    yhat = clf.predict(X_test)\n",
    "    acc = np.sum(yhat == y_test)/len(y_test)\n",
    "    accuracy.append(acc)"
   ]
  },
  {
   "cell_type": "code",
   "execution_count": 11,
   "metadata": {},
   "outputs": [
    {
     "name": "stdout",
     "output_type": "stream",
     "text": [
      "subject1 0.796895213454075\n",
      "subject2 0.8014184397163121\n",
      "subject3 0.9074074074074074\n",
      "subject4 0.9538461538461539\n",
      "subject5 0.9153846153846154\n",
      "subject6 0.8333333333333334\n",
      "subject7 0.8796296296296297\n",
      "subject8 0.8769230769230769\n",
      "subject9 0.9012345679012346\n",
      "subject10 0.9285714285714286\n"
     ]
    }
   ],
   "source": [
    "for i in range(len(accuracy)):\n",
    "    print(f\"subject{i+1}\",accuracy[i])"
   ]
  },
  {
   "cell_type": "markdown",
   "metadata": {},
   "source": [
    "from IPython.display import clear_output\n",
    "num_event = []\n",
    "X_train,y_train = preprocess(1)\n",
    "for i in range(2,11):\n",
    "    X,y = preprocess(i)\n",
    "    X_train = np.vstack((X_train,X))\n",
    "    y_train = np.concatenate((y_train,y),axis = 0)\n",
    "\n",
    "    #num_event.append(X_train.shape[0])"
   ]
  }
 ],
 "metadata": {
  "interpreter": {
   "hash": "b04ef2c9622c69066e098b499e70b06cc1f8d43c0f2701ccac2a02dd373c2b11"
  },
  "kernelspec": {
   "display_name": "Python 3.8.3 64-bit ('BCIEEG': venv)",
   "language": "python",
   "name": "python3"
  },
  "language_info": {
   "codemirror_mode": {
    "name": "ipython",
    "version": 3
   },
   "file_extension": ".py",
   "mimetype": "text/x-python",
   "name": "python",
   "nbconvert_exporter": "python",
   "pygments_lexer": "ipython3",
   "version": "3.8.3"
  },
  "orig_nbformat": 4
 },
 "nbformat": 4,
 "nbformat_minor": 2
}
