{
 "cells": [
  {
   "cell_type": "code",
   "execution_count": null,
   "metadata": {},
   "outputs": [],
   "source": [
    "from braininvaders2015a.dataset import BrainInvaders2015a\n",
    "import mne\n",
    "from mne import create_info\n",
    "from mne.io import RawArray\n",
    "import pandas as pd\n",
    "import numpy as np\n",
    "import matplotlib.pyplot as plt\n",
    "from mne import Epochs, find_events\n",
    "from IPython.display import clear_output\n",
    "from sklearn.preprocessing import StandardScaler\n",
    "from sklearn.decomposition import PCA"
   ]
  },
  {
   "cell_type": "code",
   "execution_count": null,
   "metadata": {},
   "outputs": [],
   "source": [
    "dataset = BrainInvaders2015a()\n",
    "data_subject = dataset._get_single_subject_data(3)\n",
    "data_ses1_run1 = data_subject['session_1']['run_1']\n",
    "print(data_subject)"
   ]
  },
  {
   "cell_type": "code",
   "execution_count": null,
   "metadata": {},
   "outputs": [],
   "source": [
    "def load_data(i):\n",
    "    data_subject = dataset._get_single_subject_data(i)\n",
    "    data_ses1_run1 = data_subject['session_1']['run_1']\n",
    "    data_ses1_run1_pd = data_ses1_run1.to_data_frame()\n",
    "    data_ses1_run1_pd = data_ses1_run1_pd.drop(['time'],axis = 1)\n",
    "    return data_ses1_run1_pd\n",
    "\n",
    "def df_to_raw(df):\n",
    "    sfreq = 512\n",
    "    ch_names = list(df.columns)\n",
    "    ch_types = ['eeg'] * (len(df.columns) - 1) + ['stim']\n",
    "    ten_twenty_montage = mne.channels.make_standard_montage('standard_1020')\n",
    "\n",
    "    df = df.T\n",
    "    df[:-1] *= 1e-6\n",
    "\n",
    "    info = create_info(ch_names=ch_names, ch_types=ch_types, sfreq=sfreq)\n",
    "\n",
    "    raw = mne.io.RawArray(df, info)\n",
    "    raw.set_montage(ten_twenty_montage)\n",
    "    # raw.plot_psd()\n",
    "    return raw\n",
    "\n",
    "def filter(raw):\n",
    "    raw.notch_filter(np.arange(50, 251, 50))\n",
    "    raw.filter(1,24,method = 'iir')\n",
    "    return raw\n",
    "\n",
    "def do_pca(X):\n",
    "    #scaling\n",
    "    sc = StandardScaler()\n",
    "    X = sc.fit_transform(X)\n",
    "    # Perform PCA\n",
    "    pca = PCA()\n",
    "    # Determine transformed features\n",
    "    X_pca = pca.fit_transform(X)\n",
    "    return X_pca"
   ]
  },
  {
   "cell_type": "code",
   "execution_count": null,
   "metadata": {},
   "outputs": [],
   "source": [
    "from mne.preprocessing import Xdawn\n",
    "from mne import (io, compute_raw_covariance, read_events, pick_types, Epochs)\n",
    "def preprocess(i):\n",
    "    clear_output(wait=True)\n",
    "    data_subject1 = load_data(i)\n",
    "    raw = df_to_raw(data_subject1)\n",
    "    raw = filter(raw)\n",
    "    events = find_events(raw)\n",
    "    event_id = {'NonTarget': 1, 'Target': 2}\n",
    "    eeg_channels = mne.pick_types(raw.info, eeg=True)\n",
    "    epochs = Epochs(raw, events=events, event_id=event_id, \n",
    "                        tmin=0.0, tmax=0.7, baseline=None, preload=True,verbose=False, picks=eeg_channels)\n",
    "    X = epochs.get_data()\n",
    "    y = epochs.events[:, -1]\n",
    "    # XDAWN\n",
    "    signal_cov = compute_raw_covariance(raw, picks=eeg_channels)\n",
    "    xd = Xdawn(n_components=2, signal_cov=signal_cov)\n",
    "    epochs_dawn = xd.fit_transform(epochs)\n",
    "    # this epochs has the same shape as X. i found out that using epochs from Xdawn has higher acc than X from epoch.get_data()\n",
    "    epochs = epochs_dawn.reshape(epochs_dawn.shape[0],-1)\n",
    "    return epochs,y"
   ]
  },
  {
   "cell_type": "code",
   "execution_count": 26,
   "metadata": {},
   "outputs": [
    {
     "name": "stdout",
     "output_type": "stream",
     "text": [
      "Creating RawArray with float64 data, n_channels=33, n_times=157376\n",
      "    Range : 0 ... 157375 =      0.000 ...   307.373 secs\n",
      "Ready.\n",
      "Setting up band-stop filter\n",
      "\n",
      "FIR filter parameters\n",
      "---------------------\n",
      "Designing a one-pass, zero-phase, non-causal bandstop filter:\n",
      "- Windowed time-domain design (firwin) method\n",
      "- Hamming window with 0.0194 passband ripple and 53 dB stopband attenuation\n",
      "- Lower transition bandwidth: 0.50 Hz\n",
      "- Upper transition bandwidth: 0.50 Hz\n",
      "- Filter length: 3381 samples (6.604 sec)\n",
      "\n",
      "Filtering raw data in 1 contiguous segment\n",
      "Setting up band-pass filter from 1 - 24 Hz\n",
      "\n",
      "IIR filter parameters\n",
      "---------------------\n",
      "Butterworth bandpass zero-phase (two-pass forward and reverse) non-causal filter:\n",
      "- Filter order 16 (effective, after forward-backward)\n",
      "- Cutoffs at 1.00, 24.00 Hz: -6.02, -6.02 dB\n",
      "\n",
      "504 events found\n",
      "Event IDs: [1 2]\n",
      "Using up to 1536 segments\n",
      "Number of samples used : 156672\n",
      "[done]\n",
      "Computing rank from data with rank='full'\n",
      "    EEG: rank 32 from info\n",
      "Reducing data rank from 32 -> 32\n",
      "Estimating covariance using EMPIRICAL\n",
      "Done.\n",
      "Computing rank from data with rank='full'\n",
      "    EEG: rank 32 from info\n",
      "Reducing data rank from 32 -> 32\n",
      "Estimating covariance using EMPIRICAL\n",
      "Done.\n"
     ]
    }
   ],
   "source": [
    "from sklearn.model_selection import GridSearchCV\n",
    "from sklearn.svm import SVC\n",
    "from sklearn.model_selection import train_test_split\n",
    "epochs,y = preprocess(41)\n",
    "print(epochs.shape)\n",
    "print(y.shape)\n",
    "X_train_pca = do_pca(epochs)\n",
    "    #split\n",
    "X_train, X_test, y_train, y_test = train_test_split(X_train_pca,\n",
    "                    y, test_size=0.3, random_state=1)"
   ]
  },
  {
   "cell_type": "code",
   "execution_count": 27,
   "metadata": {},
   "outputs": [
    {
     "name": "stdout",
     "output_type": "stream",
     "text": [
      "=========Best parameters=======\n",
      "The best parameters are {'C': 3, 'kernel': 'rbf'} witha score of 0.88\n"
     ]
    }
   ],
   "source": [
    "kernel = ['poly', 'rbf','linear']\n",
    "C_range = [1, 2, 3,4]\n",
    "param_grid = dict(C=C_range, kernel=kernel)\n",
    "grid = GridSearchCV(SVC(), param_grid=param_grid)\n",
    "grid.fit(X_train, y_train)\n",
    "print(\"=========Best parameters=======\")\n",
    "print(f\"The best parameters are {grid.best_params_} with\" +\n",
    "          f\"a score of {grid.best_score_:.2f}\")"
   ]
  },
  {
   "cell_type": "code",
   "execution_count": 28,
   "metadata": {},
   "outputs": [
    {
     "name": "stdout",
     "output_type": "stream",
     "text": [
      "0.8486842105263158\n"
     ]
    }
   ],
   "source": [
    "clf = SVC(kernel='rbf',C=3)\n",
    "clf.fit(X_train,y_train)\n",
    "yhat = clf.predict(X_test)\n",
    "acc = np.sum(yhat == y_test)/len(y_test)\n",
    "print(acc)"
   ]
  },
  {
   "cell_type": "markdown",
   "metadata": {},
   "source": [
    "Model(subject1-10)"
   ]
  },
  {
   "cell_type": "code",
   "execution_count": 29,
   "metadata": {},
   "outputs": [
    {
     "name": "stdout",
     "output_type": "stream",
     "text": [
      "Creating RawArray with float64 data, n_channels=33, n_times=129472\n",
      "    Range : 0 ... 129471 =      0.000 ...   252.873 secs\n",
      "Ready.\n",
      "Setting up band-stop filter\n",
      "\n",
      "FIR filter parameters\n",
      "---------------------\n",
      "Designing a one-pass, zero-phase, non-causal bandstop filter:\n",
      "- Windowed time-domain design (firwin) method\n",
      "- Hamming window with 0.0194 passband ripple and 53 dB stopband attenuation\n",
      "- Lower transition bandwidth: 0.50 Hz\n",
      "- Upper transition bandwidth: 0.50 Hz\n",
      "- Filter length: 3381 samples (6.604 sec)\n",
      "\n",
      "Filtering raw data in 1 contiguous segment\n",
      "Setting up band-pass filter from 1 - 24 Hz\n",
      "\n",
      "IIR filter parameters\n",
      "---------------------\n",
      "Butterworth bandpass zero-phase (two-pass forward and reverse) non-causal filter:\n",
      "- Filter order 16 (effective, after forward-backward)\n",
      "- Cutoffs at 1.00, 24.00 Hz: -6.02, -6.02 dB\n",
      "\n",
      "360 events found\n",
      "Event IDs: [1 2]\n",
      "Using up to 1264 segments\n",
      "Number of samples used : 128928\n",
      "[done]\n",
      "Computing rank from data with rank='full'\n",
      "    EEG: rank 32 from info\n",
      "Reducing data rank from 32 -> 32\n",
      "Estimating covariance using EMPIRICAL\n",
      "Done.\n",
      "Computing rank from data with rank='full'\n",
      "    EEG: rank 32 from info\n",
      "Reducing data rank from 32 -> 32\n",
      "Estimating covariance using EMPIRICAL\n",
      "Done.\n"
     ]
    }
   ],
   "source": [
    "from sklearn.model_selection import train_test_split\n",
    "import matplotlib.pyplot as plt\n",
    "from sklearn.svm import SVC\n",
    "accuracy = []\n",
    "for i in range(1,44):\n",
    "    X,y = preprocess(i)\n",
    "    X_train_pca = do_pca(X)\n",
    "    #split\n",
    "    X_train, X_test, y_train, y_test = train_test_split(X_train_pca,\n",
    "                    y, test_size=0.3, random_state=1)\n",
    "                    \n",
    "    #model\n",
    "    clf = SVC(kernel='rbf',C=3)\n",
    "    clf.fit(X_train,y_train)\n",
    "    yhat = clf.predict(X_test)\n",
    "    acc = np.sum(yhat == y_test)/len(y_test)\n",
    "    accuracy.append(acc)"
   ]
  },
  {
   "cell_type": "code",
   "execution_count": 30,
   "metadata": {},
   "outputs": [
    {
     "name": "stdout",
     "output_type": "stream",
     "text": [
      "subject1 0.8395860284605433\n",
      "subject2 0.8794326241134752\n",
      "subject3 0.9351851851851852\n",
      "subject4 0.9769230769230769\n",
      "subject5 0.9615384615384616\n",
      "subject6 0.9320987654320988\n",
      "subject7 0.9351851851851852\n",
      "subject8 0.8692307692307693\n",
      "subject9 0.8950617283950617\n",
      "subject10 0.9387755102040817\n",
      "subject11 0.9327731092436975\n",
      "subject12 0.8362989323843416\n",
      "subject13 0.9012345679012346\n",
      "subject14 0.8901734104046243\n",
      "subject15 0.8981481481481481\n",
      "subject16 0.8907563025210085\n",
      "subject17 0.9021739130434783\n",
      "subject18 0.8769230769230769\n",
      "subject19 0.8888888888888888\n",
      "subject20 0.8846153846153846\n",
      "subject21 0.9351851851851852\n",
      "subject22 0.9210526315789473\n",
      "subject23 0.9013157894736842\n",
      "subject24 0.957983193277311\n",
      "subject25 0.930635838150289\n",
      "subject26 0.9074074074074074\n",
      "subject27 0.8795180722891566\n",
      "subject28 0.9174757281553398\n",
      "subject29 0.930635838150289\n",
      "subject30 0.9591836734693877\n",
      "subject31 0.8666666666666667\n",
      "subject32 0.9259259259259259\n",
      "subject33 0.9074074074074074\n",
      "subject34 0.9148936170212766\n",
      "subject35 0.8664383561643836\n",
      "subject36 0.9495798319327731\n",
      "subject37 0.8652482269503546\n",
      "subject38 0.8794326241134752\n",
      "subject39 0.884393063583815\n",
      "subject40 0.9402173913043478\n",
      "subject41 0.8486842105263158\n",
      "subject42 0.8901734104046243\n",
      "subject43 0.9074074074074074\n",
      "0.9058573154718045\n"
     ]
    }
   ],
   "source": [
    "#rbf kernel, c=3 , xdawn\n",
    "sum = 0\n",
    "for i in range(len(accuracy)):\n",
    "    print(f\"subject{i+1}\",accuracy[i])\n",
    "    sum = sum + accuracy[i]\n",
    "    avg = sum/len(accuracy)\n",
    "print(avg)"
   ]
  },
  {
   "cell_type": "markdown",
   "metadata": {},
   "source": [
    "from IPython.display import clear_output\n",
    "num_event = []\n",
    "X_start,y_start = preprocess(1)\n",
    "for i in range(2,11):\n",
    "    X,y = preprocess(i)\n",
    "    X_start = np.vstack((X_start,X))\n",
    "    y_start = np.concatenate((y_start,y),axis = 0)\n",
    "\n",
    "    #num_event.append(X_train.shape[0])"
   ]
  },
  {
   "cell_type": "markdown",
   "metadata": {},
   "source": [
    "print(X_train.shape)\n",
    "print(y_train.shape)\n",
    "X = X_start\n",
    "y = y_start\n",
    "X_train_pca = do_pca(X)"
   ]
  },
  {
   "cell_type": "markdown",
   "metadata": {},
   "source": [
    "X_train, X_test, y_train, y_test = train_test_split(X_train_pca,\n",
    "                    y, test_size=0.3, random_state=1)\n",
    "                    \n",
    "#model\n",
    "clf = SVC(kernel='linear',C=1)\n",
    "clf.fit(X_train,y_train)\n",
    "yhat = clf.predict(X_test)\n",
    "acc = np.sum(yhat == y_test)/len(y_test)\n",
    "print(acc)"
   ]
  }
 ],
 "metadata": {
  "interpreter": {
   "hash": "b04ef2c9622c69066e098b499e70b06cc1f8d43c0f2701ccac2a02dd373c2b11"
  },
  "kernelspec": {
   "display_name": "Python 3.8.3 64-bit ('BCIEEG': venv)",
   "language": "python",
   "name": "python3"
  },
  "language_info": {
   "codemirror_mode": {
    "name": "ipython",
    "version": 3
   },
   "file_extension": ".py",
   "mimetype": "text/x-python",
   "name": "python",
   "nbconvert_exporter": "python",
   "pygments_lexer": "ipython3",
   "version": "3.8.3"
  },
  "orig_nbformat": 4
 },
 "nbformat": 4,
 "nbformat_minor": 2
}
